{
  "nbformat": 4,
  "nbformat_minor": 0,
  "metadata": {
    "colab": {
      "provenance": [],
      "include_colab_link": true
    },
    "kernelspec": {
      "name": "python3",
      "display_name": "Python 3"
    },
    "language_info": {
      "name": "python"
    }
  },
  "cells": [
    {
      "cell_type": "markdown",
      "metadata": {
        "id": "view-in-github",
        "colab_type": "text"
      },
      "source": [
        "<a href=\"https://colab.research.google.com/github/MichaelAlexander22/Fundamentos-programaci-n-UTEC/blob/main/02_estructuras_de_datosMichael.ipynb\" target=\"_parent\"><img src=\"https://colab.research.google.com/assets/colab-badge.svg\" alt=\"Open In Colab\"/></a>"
      ]
    },
    {
      "cell_type": "markdown",
      "source": [
        "<img src=\"https://www.ctic.uni.edu.pe/wp-content/uploads/2022/04/588px-x-348px-web-1.png\" alt=\"HTML5 Icon\" width=\"900\" height=\"350\" >\n"
      ],
      "metadata": {
        "id": "a2Ojkh4ciEiA"
      }
    },
    {
      "cell_type": "markdown",
      "source": [
        "<h1 align=center><font size = 5>ESTRUCTURAS DE DATOS - PARTE 1\n",
        "</font></h1>\n",
        "\n",
        "---"
      ],
      "metadata": {
        "id": "-amNk-kqiHO2"
      }
    },
    {
      "cell_type": "markdown",
      "source": [
        "## Tabla de Contenidos\n",
        "\n",
        "<div class=\"alert alert-block alert-info\" style=\"margin-top: 20px\">\n",
        "\n",
        "<font size = 3>\n",
        "    \n",
        "1. <a href=\"#item31\">Listas</a>  \n",
        "2. <a href=\"#item31\">Tuplas</a>  \n",
        "3. <a href=\"#item31\">Slicing</a>  \n",
        "4. <a href=\"#item31\">List comprehension</a>  \n",
        "</font>\n",
        "</div>\n",
        "\n",
        "---\n",
        "\n",
        "\n",
        "\n"
      ],
      "metadata": {
        "id": "qJ6hLRHNiQCG"
      }
    },
    {
      "cell_type": "markdown",
      "source": [
        "## <b>Objetivo:</b>\n",
        "\n",
        "Este laboratorio está diseñado para cubrir los conceptos de listas, tuplas, slicing, y listas por comprensión, con ejercicios detallados para practicar la manipulación de estos tipos de datos en Python.\n",
        "\n",
        "---"
      ],
      "metadata": {
        "id": "1XCUOST_igWZ"
      }
    },
    {
      "cell_type": "markdown",
      "source": [
        "## <b>1. Trabajando con Listas numéricas</b>\n",
        "\n",
        "Las listas son una secuencia de elementos que pueden ser modificados después de su creación. Vamos a realizar varias operaciones con listas numéricas, utilizando también la función range() para generar secuencias de números.\n",
        "\n"
      ],
      "metadata": {
        "id": "MWslSPQKjLYb"
      }
    },
    {
      "cell_type": "markdown",
      "source": [
        "### Ejemplo 1.1: Creación de listas\n"
      ],
      "metadata": {
        "id": "WVuNuyWsjXsU"
      }
    },
    {
      "cell_type": "code",
      "source": [
        "# Crear una lista de frutas\n",
        "frutas = [\"manzana\", \"banana\", \"naranja\", \"uva\", \"pera\"]\n"
      ],
      "metadata": {
        "id": "_nYyKe_bjHY5"
      },
      "execution_count": null,
      "outputs": []
    },
    {
      "cell_type": "code",
      "execution_count": null,
      "metadata": {
        "id": "MNGFUaC6hyfi"
      },
      "outputs": [],
      "source": [
        "\n",
        "# Acceder a elementos individuales\n",
        "primera_fruta = frutas[0]\n",
        "ultima_fruta = frutas[-1]\n",
        "print(primera_fruta, ultima_fruta)\n",
        "\n"
      ]
    },
    {
      "cell_type": "code",
      "source": [
        "# Modificar un elemento\n",
        "frutas[1] = \"plátano\"\n",
        "print(frutas)"
      ],
      "metadata": {
        "id": "hbnOS3lsjdWc"
      },
      "execution_count": null,
      "outputs": []
    },
    {
      "cell_type": "markdown",
      "source": [
        "### Ejemplo 1.2: Métodos útiles de listas\n",
        "\n"
      ],
      "metadata": {
        "id": "oa1fRACgjlV_"
      }
    },
    {
      "cell_type": "code",
      "source": [
        "# Agregar un elemento al final\n",
        "frutas.append(\"kiwi\")\n",
        "print(frutas)\n"
      ],
      "metadata": {
        "id": "yrlpPiGWjol1"
      },
      "execution_count": null,
      "outputs": []
    },
    {
      "cell_type": "code",
      "source": [
        "\n",
        "# Insertar un elemento en una posición específica\n",
        "frutas.insert(2, \"mango\")\n",
        "print(frutas)\n"
      ],
      "metadata": {
        "id": "wx9q6KbWnZ56"
      },
      "execution_count": null,
      "outputs": []
    },
    {
      "cell_type": "code",
      "source": [
        "# Eliminar un elemento\n",
        "frutas.remove(\"naranja\")\n",
        "print(frutas)\n"
      ],
      "metadata": {
        "id": "XVXLcedpna3G"
      },
      "execution_count": null,
      "outputs": []
    },
    {
      "cell_type": "code",
      "source": [
        "# Ordenar una lista\n",
        "frutas.sort()\n",
        "print(frutas)\n"
      ],
      "metadata": {
        "id": "v0vdv2Wknb4y"
      },
      "execution_count": null,
      "outputs": []
    },
    {
      "cell_type": "code",
      "source": [
        "# Ordenar en reversa\n",
        "frutas.sort(reverse=True)\n",
        "print(frutas)"
      ],
      "metadata": {
        "id": "Z6ermqmGncXu"
      },
      "execution_count": null,
      "outputs": []
    },
    {
      "cell_type": "markdown",
      "source": [
        "### Ejemplo 1.3: Operaciones numéricas con listas\n",
        "\n"
      ],
      "metadata": {
        "id": "zxB2ys0rm21v"
      }
    },
    {
      "cell_type": "code",
      "source": [
        "digits = [1, 2, 3, 4, 5, 6, 7, 8, 9, 0]\n",
        "\n",
        "print(\"Mínimo:\", min(digits))\n",
        "print(\"Máximo:\", max(digits))\n",
        "print(\"Suma:\", sum(digits))\n",
        "\n",
        "\n",
        "numeros = [1, 2, 3, 4, 5, 6, 7, 8, 9, 10]\n",
        "\n",
        "# Mínimo, máximo y suma\n",
        "print(\"Mínimo:\", min(numeros))\n",
        "print(\"Máximo:\", max(numeros))\n",
        "print(\"Suma total:\", sum(numeros))\n",
        "\n",
        "# Longitud de la lista\n",
        "print(\"Cantidad de elementos:\", len(numeros))\n",
        "\n",
        "# Promedio de los valores en la lista\n",
        "promedio = sum(numeros) / len(numeros)\n",
        "print(\"Promedio:\", promedio)\n"
      ],
      "metadata": {
        "id": "kSOIel4Wm8D2"
      },
      "execution_count": null,
      "outputs": []
    },
    {
      "cell_type": "markdown",
      "source": [
        "## 1.2: Uso de la función range()\n"
      ],
      "metadata": {
        "id": "x_ULJgErpMDb"
      }
    },
    {
      "cell_type": "markdown",
      "source": [
        "La función range() se utiliza para generar secuencias de números, y es especialmente útil cuando se quiere evitar la creación manual de listas largas de números consecutivos."
      ],
      "metadata": {
        "id": "2gHPgAIxpskX"
      }
    },
    {
      "cell_type": "markdown",
      "source": [
        "### Ejemplo 1.4: Creación de listas con range()\n"
      ],
      "metadata": {
        "id": "zgXTDTTIpvwz"
      }
    },
    {
      "cell_type": "code",
      "source": [
        "# Crear una lista con los números del 1 al 10\n",
        "lista_numeros = list(range(1, 11))\n",
        "print(\"Números del 1 al 10:\", lista_numeros)\n"
      ],
      "metadata": {
        "id": "oSjCMXolp0_a"
      },
      "execution_count": null,
      "outputs": []
    },
    {
      "cell_type": "code",
      "source": [
        "# Crear una lista con los números pares entre 2 y 20\n",
        "pares = list(range(2, 21, 2))\n",
        "print(\"Números pares del 2 al 20:\", pares)\n"
      ],
      "metadata": {
        "id": "irHM5QenptAD"
      },
      "execution_count": null,
      "outputs": []
    },
    {
      "cell_type": "code",
      "source": [
        "# Crear una lista de números en orden inverso (del 10 al 1)\n",
        "reversa = list(range(10, 0, -1))\n",
        "print(\"Números en orden inverso:\", reversa)\n"
      ],
      "metadata": {
        "id": "SFRs3Qv1p56E"
      },
      "execution_count": null,
      "outputs": []
    },
    {
      "cell_type": "code",
      "source": [
        "# Crear una lista de múltiplos de 5 entre 0 y 50\n",
        "multiplos_de_5 = list(range(0, 51, 5))\n",
        "print(\"Múltiplos de 5 entre 0 y 50:\", multiplos_de_5)\n"
      ],
      "metadata": {
        "id": "u9dMaOU8p6UX"
      },
      "execution_count": null,
      "outputs": []
    },
    {
      "cell_type": "markdown",
      "source": [
        "### Ejercicio 1.1: Operaciones numéricas con listas\n",
        "\n",
        "- Crea una lista de números entre 1 y 100 usando la función range() (verás cómo usarla en el próximo ejemplo).\n",
        "\n",
        "- Calcula la media de los valores de la lista usando las funciones sum() y len().\n",
        "\n",
        "- Usa sorted() para crear una lista ordenada inversamente de los primeros 50 números.\n",
        "\n",
        "- Crea una lista que contenga solo los números mayores a 50, multiplicados por 2."
      ],
      "metadata": {
        "id": "H0ED3Dkxm8cd"
      }
    },
    {
      "cell_type": "code",
      "source": [],
      "metadata": {
        "id": "8Yot9kIypKuw"
      },
      "execution_count": null,
      "outputs": []
    },
    {
      "cell_type": "markdown",
      "source": [
        "## <b>2. Listas por Comprensión</b>\n",
        "\n",
        "Las listas por comprensión son una forma concisa de crear listas nuevas a partir de una expresión. Se pueden utilizar para realizar operaciones sobre secuencias de forma más rápida y sin necesidad de ciclos explícitos.\n",
        "\n"
      ],
      "metadata": {
        "id": "8q_I9AOBjpH7"
      }
    },
    {
      "cell_type": "markdown",
      "source": [
        "### Ejemplo 2.1: Generación de listas por comprensión\n"
      ],
      "metadata": {
        "id": "o3SzxNcajzk4"
      }
    },
    {
      "cell_type": "code",
      "source": [
        "# Crear una lista de cuadrados de los números del 1 al 10\n",
        "cuadrados = [x**2 for x in range(1, 11)]\n",
        "print(cuadrados)\n",
        "\n"
      ],
      "metadata": {
        "id": "Uu2JI0Ycj7DM"
      },
      "execution_count": null,
      "outputs": []
    },
    {
      "cell_type": "code",
      "source": [
        "# Crear una lista de números pares entre 1 y 20\n",
        "pares = [x for x in range(1, 21) if x % 2 == 0]\n",
        "print(pares)\n"
      ],
      "metadata": {
        "id": "j8UcjDF7j9JX"
      },
      "execution_count": null,
      "outputs": []
    },
    {
      "cell_type": "code",
      "source": [
        "features_pas = ['ahorros_prom12','Abonos_prom12','Cargos_prom12','trxn_prom12'] ##ojo con esto, es algo que el profesor usa en la vida real cuando maneja muchas variables en una base de datos\n",
        "\n",
        "features_rcc = ['deuda_prom12','entidades_prom12','atraso_prom12']\n",
        "\n",
        "['Pas_' + x for x in features_pas]+['RCC_' + x for x in features_rcc]"
      ],
      "metadata": {
        "id": "LfWK6F4IZlfr",
        "outputId": "6dbe1369-14df-4476-a563-4cbf8e40b29a",
        "colab": {
          "base_uri": "https://localhost:8080/"
        }
      },
      "execution_count": 2,
      "outputs": [
        {
          "output_type": "execute_result",
          "data": {
            "text/plain": [
              "['Pas_ahorros_prom12',\n",
              " 'Pas_Abonos_prom12',\n",
              " 'Pas_Cargos_prom12',\n",
              " 'Pas_trxn_prom12',\n",
              " 'RCC_deuda_prom12',\n",
              " 'RCC_entidades_prom12',\n",
              " 'RCC_atraso_prom12']"
            ]
          },
          "metadata": {},
          "execution_count": 2
        }
      ]
    },
    {
      "cell_type": "markdown",
      "source": [
        " - Crea una lista de los números impares entre 1 y 50.\n",
        " - Genera una lista con los cubos de los primeros 10 números (1 al 10).\n",
        " - Dada una lista de palabras, crea una nueva lista que contenga las palabras con más de 4 letras en mayúsculas."
      ],
      "metadata": {
        "id": "XEq-6AdtbzlR"
      }
    },
    {
      "cell_type": "code",
      "source": [
        "impares = [x for x in range(1,50,2)]\n",
        "print\t(impares)"
      ],
      "metadata": {
        "id": "VNhNiSIpcAm1",
        "outputId": "1f6a9b70-a5b9-42ee-dd3c-fda8b9c0a362",
        "colab": {
          "base_uri": "https://localhost:8080/"
        }
      },
      "execution_count": 9,
      "outputs": [
        {
          "output_type": "stream",
          "name": "stdout",
          "text": [
            "[1, 3, 5, 7, 9, 11, 13, 15, 17, 19, 21, 23, 25, 27, 29, 31, 33, 35, 37, 39, 41, 43, 45, 47, 49]\n"
          ]
        }
      ]
    },
    {
      "cell_type": "code",
      "source": [
        "#otro ejemplo\n",
        "\n",
        "lista_impares=[x for x in range(1,51) if x%2 != 0]\n",
        "print(lista_impares)"
      ],
      "metadata": {
        "id": "q5_gBZPcd6Vo",
        "outputId": "4e3e0833-2b6c-4bc3-a28f-b9cc02489bb5",
        "colab": {
          "base_uri": "https://localhost:8080/"
        }
      },
      "execution_count": 7,
      "outputs": [
        {
          "output_type": "stream",
          "name": "stdout",
          "text": [
            "[1, 3, 5, 7, 9, 11, 13, 15, 17, 19, 21, 23, 25, 27, 29, 31, 33, 35, 37, 39, 41, 43, 45, 47, 49]\n"
          ]
        }
      ]
    },
    {
      "cell_type": "code",
      "source": [
        "numeros = [x**3 for x in range(1,11)]\n",
        "print(numeros)"
      ],
      "metadata": {
        "id": "JMcvVlrycU9E",
        "outputId": "cb95cadf-e01a-4b69-9836-4c0be9e2a186",
        "colab": {
          "base_uri": "https://localhost:8080/"
        }
      },
      "execution_count": 6,
      "outputs": [
        {
          "output_type": "stream",
          "name": "stdout",
          "text": [
            "[1, 8, 27, 64, 125, 216, 343, 512, 729, 1000]\n"
          ]
        }
      ]
    },
    {
      "cell_type": "code",
      "source": [
        "palabras=[]\n",
        "\n",
        "while len(palabras)<=3:\n",
        " palabra = input(\"Ingrese una palabra: \")\n",
        " palabras.append(palabra)\n",
        "\n",
        "palabras_mayusculas = [palabra.upper() for palabra in palabras if len(palabra)>4]\n",
        "print(palabras_mayusculas)"
      ],
      "metadata": {
        "id": "JTzaBmMFcwgk",
        "outputId": "8d14c1b6-6438-45c8-b6fd-c52e39d3ede4",
        "colab": {
          "base_uri": "https://localhost:8080/"
        }
      },
      "execution_count": 11,
      "outputs": [
        {
          "output_type": "stream",
          "name": "stdout",
          "text": [
            "Ingrese una palabraMichael\n",
            "Ingrese una palabraHola\n",
            "Ingrese una palabragola\n",
            "Ingrese una palabrayoselyn\n",
            "['MICHAEL', 'YOSELYN']\n"
          ]
        }
      ]
    },
    {
      "cell_type": "code",
      "source": [
        "##caso del profesor\n",
        "\n",
        "word_list = []\n",
        "\n",
        "while True:\n",
        "  word = input(\"Ingrese una palabra (escriba exit para salir): \")\n",
        "  if word == \"exit\":\n",
        "    break\n",
        "  else:\n",
        "    word_list.append(word)\n",
        "    print(\"lista actualizada\", word_list)\n",
        "\n",
        "word_mayusculaa = [word for word in word_list if len([x for x in word if x == x.upper()]) > 4]\n",
        "print(word_mayusculaa)"
      ],
      "metadata": {
        "id": "mCuMzNRaiTJK"
      },
      "execution_count": null,
      "outputs": []
    },
    {
      "cell_type": "markdown",
      "source": [
        "### Ejemplo 2.2: Listas por comprensión con manipulación de cadenas\n",
        "\n"
      ],
      "metadata": {
        "id": "v9o0-F4FkBRa"
      }
    },
    {
      "cell_type": "code",
      "source": [
        "# Crear una lista con las primeras letras en mayúsculas de una lista de nombres\n",
        "\n",
        "nombres = [\"juan\", \"pedro\", \"ana\", \"maria\"]\n",
        "nombres_mayuscula = [nombre.capitalize() for nombre in nombres]\n",
        "print(nombres_mayuscula)\n"
      ],
      "metadata": {
        "id": "V3ZGMDOKkY29"
      },
      "execution_count": null,
      "outputs": []
    },
    {
      "cell_type": "markdown",
      "source": [
        "### Ejercicio 2: Creación avanzada con listas por comprensión\n",
        "\n",
        "- Crea una lista de los números impares entre 1 y 50.\n",
        "- Genera una lista con los cubos de los primeros 10 números (1 al 10).\n",
        "- Dada una lista de palabras, crea una nueva lista que contenga las palabras con más de 4 letras en mayúsculas.\n"
      ],
      "metadata": {
        "id": "ONAVddiUkk0I"
      }
    },
    {
      "cell_type": "code",
      "source": [],
      "metadata": {
        "id": "jfyhX8FmksPF"
      },
      "execution_count": null,
      "outputs": []
    },
    {
      "cell_type": "markdown",
      "source": [
        "## <b>3. Trabajando con Slicing</b>\n"
      ],
      "metadata": {
        "id": "8Pw1lVQAk_1c"
      }
    },
    {
      "cell_type": "markdown",
      "source": [
        "El slicing es una técnica que te permite extraer sublistas de listas existentes, seleccionando elementos de una lista mediante índices."
      ],
      "metadata": {
        "id": "E4pOl2C8lKzF"
      }
    },
    {
      "cell_type": "markdown",
      "source": [
        "### Ejemplo 3.1: Slicing de listas\n"
      ],
      "metadata": {
        "id": "NhyOyyLtnaLV"
      }
    },
    {
      "cell_type": "code",
      "source": [
        "# Crear una lista de letras\n",
        "letras = ['a', 'b', 'c', 'd', 'e', 'f', 'g', 'h']\n",
        "\n"
      ],
      "metadata": {
        "id": "YZkf5aLHmhde"
      },
      "execution_count": null,
      "outputs": []
    },
    {
      "cell_type": "code",
      "source": [
        "# Extraer una subsección de la lista\n",
        "primeras_tres = letras[:3]  # Primeros 3 elementos\n",
        "print(primeras_tres)"
      ],
      "metadata": {
        "id": "qi5sJLuUmR0m"
      },
      "execution_count": null,
      "outputs": []
    },
    {
      "cell_type": "code",
      "source": [
        "desde_el_cuarto = letras[3:]  # Desde el cuarto hasta el final\n",
        "print(desde_el_cuarto)\n"
      ],
      "metadata": {
        "id": "8T_pNL9gmoT8"
      },
      "execution_count": null,
      "outputs": []
    },
    {
      "cell_type": "code",
      "source": [
        "ultimos_dos = letras[-2:]  # Los últimos dos elementos\n",
        "print(ultimos_dos)\n"
      ],
      "metadata": {
        "id": "hSQ9bC3Vmy96"
      },
      "execution_count": null,
      "outputs": []
    },
    {
      "cell_type": "markdown",
      "source": [
        "### Ejemplo 3.2: Slicing con pasos\n"
      ],
      "metadata": {
        "id": "QJzj1X6undzm"
      }
    },
    {
      "cell_type": "code",
      "source": [
        "# Crear una lista de números del 1 al 10\n",
        "numeros = list(range(1, 11))\n"
      ],
      "metadata": {
        "id": "9u0Sho8vno-g"
      },
      "execution_count": null,
      "outputs": []
    },
    {
      "cell_type": "code",
      "source": [
        "\n",
        "# Obtener todos los números en posiciones pares\n",
        "pares = numeros[1::2]  # Inicia en el segundo elemento y salta de 2 en 2\n",
        "print(pares)\n",
        "\n",
        "\n"
      ],
      "metadata": {
        "id": "EADKhXulntOP"
      },
      "execution_count": null,
      "outputs": []
    },
    {
      "cell_type": "code",
      "source": [
        "# Obtener cada tercer número\n",
        "tercios = numeros[::3]\n",
        "print(tercios)"
      ],
      "metadata": {
        "id": "lRCCtFKBnweq"
      },
      "execution_count": null,
      "outputs": []
    },
    {
      "cell_type": "markdown",
      "source": [
        "### Ejercicio 3: Aplicaciones de slicing\n",
        "\n",
        "Crea una lista con los números del 1 al 100. Luego, usando slicing:\n",
        "- Extrae los primeros 10 números.\n",
        "- Extrae los últimos 10 números.\n",
        "- Extrae todos los números en posiciones impares.\n",
        "- Usa slicing para dividir una lista de palabras en dos mitades."
      ],
      "metadata": {
        "id": "vp3MgC__lQyw"
      }
    },
    {
      "cell_type": "code",
      "source": [],
      "metadata": {
        "id": "8wxUXYwOlYNE"
      },
      "execution_count": null,
      "outputs": []
    },
    {
      "cell_type": "markdown",
      "source": [
        "## <b>4. Trabajando con Tuplas\n",
        "</b>"
      ],
      "metadata": {
        "id": "m2oeaICsrlMr"
      }
    },
    {
      "cell_type": "markdown",
      "source": [
        "Las tuplas son como listas, pero inmutables, lo que significa que no se pueden modificar después de su creación. Son útiles para almacenar datos que no deben cambiar."
      ],
      "metadata": {
        "id": "-m-yjEGmrpxH"
      }
    },
    {
      "cell_type": "markdown",
      "source": [
        "### Ejemplo 4.1: Crear y acceder a tuplas\n"
      ],
      "metadata": {
        "id": "iN8wV0F0rsJK"
      }
    },
    {
      "cell_type": "code",
      "source": [
        "# Crear una tupla\n",
        "coordenadas = (10.5, 20.3)\n",
        "\n",
        "# Acceder a los elementos de la tupla\n",
        "print(\"X:\", coordenadas[0])\n",
        "print(\"Y:\", coordenadas[1])\n"
      ],
      "metadata": {
        "id": "cBiHFdW_rqqi"
      },
      "execution_count": null,
      "outputs": []
    },
    {
      "cell_type": "markdown",
      "source": [
        "### Ejemplo 4.2: Intento de modificación de una tupla\n"
      ],
      "metadata": {
        "id": "YIMqOp-erw_K"
      }
    },
    {
      "cell_type": "code",
      "source": [
        "# Crear una tupla\n",
        "dimensiones = (200, 50)\n"
      ],
      "metadata": {
        "id": "4SMEGO6ZrzJj"
      },
      "execution_count": null,
      "outputs": []
    },
    {
      "cell_type": "code",
      "source": [
        "# Intentar modificar la tupla (esto generará un error)\n",
        "# dimensiones[0] = 250  # Descomenta esta línea para ver el error\n"
      ],
      "metadata": {
        "id": "0Zd9AM9Cr2ZN"
      },
      "execution_count": null,
      "outputs": []
    },
    {
      "cell_type": "code",
      "source": [
        "# Reasignar una nueva tupla\n",
        "dimensiones = (400, 100)\n",
        "print(\"Nuevas dimensiones:\", dimensiones)"
      ],
      "metadata": {
        "id": "lIv2eQcmr3aL"
      },
      "execution_count": null,
      "outputs": []
    },
    {
      "cell_type": "markdown",
      "source": [
        "### Ejercicio 4: Trabajando con tuplas\n",
        "- Crea una tupla que almacene las dimensiones de un objeto (ancho, alto).\n",
        "- Intenta modificar un elemento de la tupla y observa el error que genera.\n",
        "- Reescribe la tupla completa con nuevas dimensiones.\n"
      ],
      "metadata": {
        "id": "juG-GKwwr7hC"
      }
    },
    {
      "cell_type": "code",
      "source": [],
      "metadata": {
        "id": "flPWwLBRr-87"
      },
      "execution_count": null,
      "outputs": []
    },
    {
      "cell_type": "markdown",
      "source": [
        "## <b>5. Desafío</b>"
      ],
      "metadata": {
        "id": "K8ioDMpJl8zI"
      }
    },
    {
      "cell_type": "markdown",
      "source": [
        "### Desafío 1: Análisis de ventas de una tienda de ropa\n",
        "\n",
        "Eres el encargado de una tienda de ropa y tienes una lista de ventas diarias para diferentes productos. Cada día, vendes camisetas, pantalones y zapatos. Quieres analizar las ventas para entender mejor el rendimiento de cada producto.\n",
        "\n",
        "<b>Objetivo:</b>\n",
        "\n",
        "- Crea tres listas: una para camisetas, otra para pantalones y una para zapatos, con la cantidad vendida cada día durante una semana.\n",
        "- Usa slicing para extraer las ventas de los últimos 3 días de cada producto.\n",
        "- Usa listas por comprensión para calcular el total de ventas de cada producto y el promedio de ventas diarias.\n",
        "\n",
        "- Clasifica los productos en \"buenas ventas\" o \"malas ventas\" según si el promedio de ventas diarias es mayor o menor a 5.\n",
        "\n",
        "Instrucciones:\n",
        "- Genera los datos de ventas usando listas manualmente o simulándolos con valores constantes.\n",
        "- Calcula el total de ventas por producto usando sum() y el promedio con len().\n",
        "- Usa listas por comprensión para clasificar las ventas de los productos."
      ],
      "metadata": {
        "id": "mQkPuK6ymKTk"
      }
    },
    {
      "cell_type": "code",
      "source": [],
      "metadata": {
        "id": "43HiaKjEmmPg"
      },
      "execution_count": null,
      "outputs": []
    },
    {
      "cell_type": "markdown",
      "source": [
        "---\n",
        "\n",
        "# Gracias por completar este laboratorio!\n",
        "\n",
        "---"
      ],
      "metadata": {
        "id": "_G9dWzTgp6-m"
      }
    }
  ]
}